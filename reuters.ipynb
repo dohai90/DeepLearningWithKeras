{
 "cells": [
  {
   "cell_type": "code",
   "execution_count": 1,
   "metadata": {},
   "outputs": [
    {
     "name": "stderr",
     "output_type": "stream",
     "text": [
      "/usr/lib/python3.5/importlib/_bootstrap.py:222: RuntimeWarning: numpy.dtype size changed, may indicate binary incompatibility. Expected 96, got 88\n",
      "  return f(*args, **kwds)\n",
      "/usr/lib/python3.5/importlib/_bootstrap.py:222: RuntimeWarning: numpy.dtype size changed, may indicate binary incompatibility. Expected 96, got 88\n",
      "  return f(*args, **kwds)\n",
      "/usr/lib/python3.5/importlib/_bootstrap.py:222: RuntimeWarning: numpy.dtype size changed, may indicate binary incompatibility. Expected 96, got 88\n",
      "  return f(*args, **kwds)\n"
     ]
    }
   ],
   "source": [
    "import os\n",
    "import numpy as np\n",
    "import tensorflow as tf\n",
    "import matplotlib.pyplot as plt\n",
    "\n",
    "from tensorflow import keras\n",
    "os.environ['CUDA_VISIBLE_DEVICES'] = \"\""
   ]
  },
  {
   "cell_type": "code",
   "execution_count": 2,
   "metadata": {},
   "outputs": [
    {
     "name": "stdout",
     "output_type": "stream",
     "text": [
      "Downloading data from https://storage.googleapis.com/tensorflow/tf-keras-datasets/reuters.npz\n",
      "2113536/2110848 [==============================] - 0s 0us/step\n"
     ]
    }
   ],
   "source": [
    "reuters = keras.datasets.reuters\n",
    "(train_data, train_labels), (test_data, test_labels) = reuters.load_data(num_words=10000) "
   ]
  },
  {
   "cell_type": "code",
   "execution_count": 3,
   "metadata": {},
   "outputs": [
    {
     "data": {
      "text/plain": [
       "8982"
      ]
     },
     "execution_count": 3,
     "metadata": {},
     "output_type": "execute_result"
    }
   ],
   "source": [
    "len(train_data)"
   ]
  },
  {
   "cell_type": "code",
   "execution_count": 4,
   "metadata": {},
   "outputs": [
    {
     "data": {
      "text/plain": [
       "2246"
      ]
     },
     "execution_count": 4,
     "metadata": {},
     "output_type": "execute_result"
    }
   ],
   "source": [
    "len(test_data)"
   ]
  },
  {
   "cell_type": "code",
   "execution_count": 6,
   "metadata": {},
   "outputs": [
    {
     "name": "stdout",
     "output_type": "stream",
     "text": [
      "[1, 245, 273, 207, 156, 53, 74, 160, 26, 14, 46, 296, 26, 39, 74, 2979, 3554, 14, 46, 4689, 4329, 86, 61, 3499, 4795, 14, 61, 451, 4329, 17, 12]\n"
     ]
    }
   ],
   "source": [
    "print(train_data[10])"
   ]
  },
  {
   "cell_type": "code",
   "execution_count": 11,
   "metadata": {},
   "outputs": [],
   "source": [
    "word_index = reuters.get_word_index()\n",
    "reversed_word_index = dict([(value, key) for key, value in word_index.items()])\n",
    "first_news = ' '.join([reversed_word_index.get(i-3, '?') for i in train_data[0]])"
   ]
  },
  {
   "cell_type": "code",
   "execution_count": 12,
   "metadata": {},
   "outputs": [
    {
     "name": "stdout",
     "output_type": "stream",
     "text": [
      "? ? ? said as a result of its december acquisition of space co it expects earnings per share in 1987 of 1 15 to 1 30 dlrs per share up from 70 cts in 1986 the company said pretax net should rise to nine to 10 mln dlrs from six mln dlrs in 1986 and rental operation revenues to 19 to 22 mln dlrs from 12 5 mln dlrs it said cash flow per share this year should be 2 50 to three dlrs reuter 3\n"
     ]
    }
   ],
   "source": [
    "print(first_news)"
   ]
  },
  {
   "cell_type": "code",
   "execution_count": 13,
   "metadata": {},
   "outputs": [
    {
     "data": {
      "text/plain": [
       "3"
      ]
     },
     "execution_count": 13,
     "metadata": {},
     "output_type": "execute_result"
    }
   ],
   "source": [
    "train_labels[10]"
   ]
  },
  {
   "cell_type": "code",
   "execution_count": 14,
   "metadata": {},
   "outputs": [],
   "source": [
    "# vectorize the data\n",
    "def vectorize_sequences(sequences, dims=10000):\n",
    "    results = np.zeros((len(sequences), dims))\n",
    "    for i, word_indices in enumerate(sequences):\n",
    "        results[i, word_indices] = 1.\n",
    "    return results\n",
    "\n",
    "x_train = vectorize_sequences(train_data)\n",
    "x_test = vectorize_sequences(test_data)"
   ]
  },
  {
   "cell_type": "code",
   "execution_count": 15,
   "metadata": {},
   "outputs": [],
   "source": [
    "def to_one_hot(labels, dims=46):\n",
    "    results = np.zeros((len(labels), dims))\n",
    "    for i, label in enumerate(labels):\n",
    "        results[i, label] = 1.\n",
    "    return results\n",
    "\n",
    "y_train = to_one_hot(train_labels)\n",
    "y_test = to_one_hot(test_labels)"
   ]
  },
  {
   "cell_type": "code",
   "execution_count": 16,
   "metadata": {},
   "outputs": [
    {
     "data": {
      "text/plain": [
       "array([0., 0., 0., 1., 0., 0., 0., 0., 0., 0., 0., 0., 0., 0., 0., 0., 0.,\n",
       "       0., 0., 0., 0., 0., 0., 0., 0., 0., 0., 0., 0., 0., 0., 0., 0., 0.,\n",
       "       0., 0., 0., 0., 0., 0., 0., 0., 0., 0., 0., 0.])"
      ]
     },
     "execution_count": 16,
     "metadata": {},
     "output_type": "execute_result"
    }
   ],
   "source": [
    "y_train[10]"
   ]
  },
  {
   "cell_type": "code",
   "execution_count": 17,
   "metadata": {},
   "outputs": [],
   "source": [
    "one_hot_train_labels = keras.utils.to_categorical(train_labels)\n",
    "one_hot_test_labels = keras.utils.to_categorical(test_labels)"
   ]
  },
  {
   "cell_type": "code",
   "execution_count": 18,
   "metadata": {},
   "outputs": [
    {
     "data": {
      "text/plain": [
       "array([0., 0., 0., 1., 0., 0., 0., 0., 0., 0., 0., 0., 0., 0., 0., 0., 0.,\n",
       "       0., 0., 0., 0., 0., 0., 0., 0., 0., 0., 0., 0., 0., 0., 0., 0., 0.,\n",
       "       0., 0., 0., 0., 0., 0., 0., 0., 0., 0., 0., 0.], dtype=float32)"
      ]
     },
     "execution_count": 18,
     "metadata": {},
     "output_type": "execute_result"
    }
   ],
   "source": [
    "one_hot_train_labels[10]"
   ]
  },
  {
   "cell_type": "code",
   "execution_count": 19,
   "metadata": {},
   "outputs": [],
   "source": [
    "x_val = x_train[:1000]\n",
    "partial_x_train = x_train[1000:]\n",
    "\n",
    "y_val = y_train[:1000]\n",
    "partial_y_train = y_train[1000:]"
   ]
  },
  {
   "cell_type": "code",
   "execution_count": 20,
   "metadata": {
    "scrolled": true
   },
   "outputs": [
    {
     "name": "stdout",
     "output_type": "stream",
     "text": [
      "Train on 7982 samples, validate on 1000 samples\n",
      "Epoch 1/20\n",
      "7982/7982 [==============================] - 2s 295us/step - loss: 2.6081 - categorical_accuracy: 0.4826 - val_loss: 1.7108 - val_categorical_accuracy: 0.6310\n",
      "Epoch 2/20\n",
      "7982/7982 [==============================] - 2s 201us/step - loss: 1.3990 - categorical_accuracy: 0.7051 - val_loss: 1.2705 - val_categorical_accuracy: 0.7140\n",
      "Epoch 3/20\n",
      "7982/7982 [==============================] - 1s 184us/step - loss: 1.0367 - categorical_accuracy: 0.7783 - val_loss: 1.1048 - val_categorical_accuracy: 0.7630\n",
      "Epoch 4/20\n",
      "7982/7982 [==============================] - 2s 194us/step - loss: 0.8215 - categorical_accuracy: 0.8252 - val_loss: 1.0068 - val_categorical_accuracy: 0.7870\n",
      "Epoch 5/20\n",
      "7982/7982 [==============================] - 2s 189us/step - loss: 0.6512 - categorical_accuracy: 0.8627 - val_loss: 0.9510 - val_categorical_accuracy: 0.7940\n",
      "Epoch 6/20\n",
      "7982/7982 [==============================] - 2s 203us/step - loss: 0.5239 - categorical_accuracy: 0.8891 - val_loss: 0.8994 - val_categorical_accuracy: 0.8200\n",
      "Epoch 7/20\n",
      "7982/7982 [==============================] - 2s 214us/step - loss: 0.4207 - categorical_accuracy: 0.9112 - val_loss: 0.8924 - val_categorical_accuracy: 0.8200\n",
      "Epoch 8/20\n",
      "7982/7982 [==============================] - 1s 173us/step - loss: 0.3418 - categorical_accuracy: 0.9276 - val_loss: 0.8912 - val_categorical_accuracy: 0.8080\n",
      "Epoch 9/20\n",
      "7982/7982 [==============================] - 1s 154us/step - loss: 0.2842 - categorical_accuracy: 0.9366 - val_loss: 0.8865 - val_categorical_accuracy: 0.8190\n",
      "Epoch 10/20\n",
      "7982/7982 [==============================] - 1s 151us/step - loss: 0.2365 - categorical_accuracy: 0.9465 - val_loss: 0.9135 - val_categorical_accuracy: 0.8030\n",
      "Epoch 11/20\n",
      "7982/7982 [==============================] - 1s 165us/step - loss: 0.2054 - categorical_accuracy: 0.9481 - val_loss: 0.9178 - val_categorical_accuracy: 0.8160\n",
      "Epoch 12/20\n",
      "7982/7982 [==============================] - 1s 163us/step - loss: 0.1792 - categorical_accuracy: 0.9514 - val_loss: 0.9379 - val_categorical_accuracy: 0.8050\n",
      "Epoch 13/20\n",
      "7982/7982 [==============================] - 1s 151us/step - loss: 0.1663 - categorical_accuracy: 0.9531 - val_loss: 0.9483 - val_categorical_accuracy: 0.8080\n",
      "Epoch 14/20\n",
      "7982/7982 [==============================] - 1s 149us/step - loss: 0.1486 - categorical_accuracy: 0.9558 - val_loss: 0.9792 - val_categorical_accuracy: 0.8070\n",
      "Epoch 15/20\n",
      "7982/7982 [==============================] - 1s 154us/step - loss: 0.1405 - categorical_accuracy: 0.9548 - val_loss: 0.9865 - val_categorical_accuracy: 0.8100\n",
      "Epoch 16/20\n",
      "7982/7982 [==============================] - 1s 161us/step - loss: 0.1306 - categorical_accuracy: 0.9559 - val_loss: 1.0175 - val_categorical_accuracy: 0.8060\n",
      "Epoch 17/20\n",
      "7982/7982 [==============================] - 1s 144us/step - loss: 0.1260 - categorical_accuracy: 0.9567 - val_loss: 1.0641 - val_categorical_accuracy: 0.7970\n",
      "Epoch 18/20\n",
      "7982/7982 [==============================] - 1s 140us/step - loss: 0.1219 - categorical_accuracy: 0.9551 - val_loss: 1.0422 - val_categorical_accuracy: 0.8050\n",
      "Epoch 19/20\n",
      "7982/7982 [==============================] - 1s 153us/step - loss: 0.1204 - categorical_accuracy: 0.9565 - val_loss: 1.0828 - val_categorical_accuracy: 0.8020\n",
      "Epoch 20/20\n",
      "7982/7982 [==============================] - 1s 146us/step - loss: 0.1117 - categorical_accuracy: 0.9567 - val_loss: 1.0338 - val_categorical_accuracy: 0.8030\n"
     ]
    }
   ],
   "source": [
    "# building model\n",
    "model = keras.Sequential([\n",
    "    keras.layers.Dense(64, activation=keras.activations.relu, input_shape=(10000, )),\n",
    "    keras.layers.Dense(64, activation=keras.activations.relu),\n",
    "    keras.layers.Dense(46, activation=keras.activations.softmax)\n",
    "])\n",
    "\n",
    "model.compile(optimizer=keras.optimizers.RMSprop(),\n",
    "              loss=keras.losses.categorical_crossentropy,\n",
    "              metrics=[keras.metrics.categorical_accuracy])\n",
    "\n",
    "history = model.fit(partial_x_train, partial_y_train,\n",
    "                    epochs=20,\n",
    "                    batch_size=512, \n",
    "                    validation_data=(x_val, y_val))"
   ]
  },
  {
   "cell_type": "code",
   "execution_count": 23,
   "metadata": {},
   "outputs": [
    {
     "data": {
      "text/plain": [
       "dict_keys(['val_loss', 'val_categorical_accuracy', 'categorical_accuracy', 'loss'])"
      ]
     },
     "execution_count": 23,
     "metadata": {},
     "output_type": "execute_result"
    }
   ],
   "source": [
    "history_dict = history.history\n",
    "history_dict.keys()"
   ]
  },
  {
   "cell_type": "code",
   "execution_count": 25,
   "metadata": {},
   "outputs": [
    {
     "data": {
      "text/plain": [
       "20"
      ]
     },
     "execution_count": 25,
     "metadata": {},
     "output_type": "execute_result"
    }
   ],
   "source": [
    "len(history_dict['loss'])"
   ]
  },
  {
   "cell_type": "code",
   "execution_count": 26,
   "metadata": {},
   "outputs": [
    {
     "data": {
      "image/png": "[encoded data removed]",
      "text/plain": [
       "<Figure size 432x288 with 1 Axes>"
      ]
     },
     "metadata": {},
     "output_type": "display_data"
    }
   ],
   "source": [
    "# plot loss\n",
    "epochs = range(1, len(history_dict['loss']) + 1)\n",
    "\n",
    "plt.figure()\n",
    "plt.plot(epochs, history_dict['loss'], 'bo', label='Training loss')\n",
    "plt.plot(epochs, history_dict['val_loss'], 'b', label='Validation loss')\n",
    "plt.title('Training and validation loss')\n",
    "plt.xlabel('Epochs')\n",
    "plt.ylabel('Loss')\n",
    "plt.legend()\n",
    "plt.show()"
   ]
  },
  {
   "cell_type": "code",
   "execution_count": 27,
   "metadata": {},
   "outputs": [
    {
     "data": {
      "image/png": "[encoded data removed]",
      "text/plain": [
       "<Figure size 432x288 with 1 Axes>"
      ]
     },
     "metadata": {},
     "output_type": "display_data"
    }
   ],
   "source": [
    "# plot accuracy\n",
    "plt.clf()\n",
    "plt.plot(epochs, history_dict['categorical_accuracy'], 'bo', label='Training accuracy')\n",
    "plt.plot(epochs, history_dict['val_categorical_accuracy'], 'b', label='Validation accuracy')\n",
    "plt.title('Training and validation accuracy')\n",
    "plt.xlabel('Epochs')\n",
    "plt.ylabel('Accuracy')\n",
    "plt.legend()\n",
    "plt.show()"
   ]
  },
  {
   "cell_type": "code",
   "execution_count": 28,
   "metadata": {},
   "outputs": [
    {
     "name": "stdout",
     "output_type": "stream",
     "text": [
      "Epoch 1/9\n",
      "8982/8982 [==============================] - 1s 149us/step - loss: 2.7079 - categorical_accuracy: 0.5328\n",
      "Epoch 2/9\n",
      "8982/8982 [==============================] - 1s 121us/step - loss: 1.3899 - categorical_accuracy: 0.7114\n",
      "Epoch 3/9\n",
      "8982/8982 [==============================] - 1s 106us/step - loss: 1.0146 - categorical_accuracy: 0.7866\n",
      "Epoch 4/9\n",
      "8982/8982 [==============================] - 1s 123us/step - loss: 0.7888 - categorical_accuracy: 0.8348\n",
      "Epoch 5/9\n",
      "8982/8982 [==============================] - 1s 110us/step - loss: 0.6247 - categorical_accuracy: 0.8701\n",
      "Epoch 6/9\n",
      "8982/8982 [==============================] - 1s 119us/step - loss: 0.4995 - categorical_accuracy: 0.8961\n",
      "Epoch 7/9\n",
      "8982/8982 [==============================] - 1s 118us/step - loss: 0.4000 - categorical_accuracy: 0.9156\n",
      "Epoch 8/9\n",
      "8982/8982 [==============================] - 1s 110us/step - loss: 0.3339 - categorical_accuracy: 0.9284\n",
      "Epoch 9/9\n",
      "8982/8982 [==============================] - 1s 106us/step - loss: 0.2797 - categorical_accuracy: 0.9394\n",
      "2246/2246 [==============================] - 0s 189us/step\n"
     ]
    },
    {
     "data": {
      "text/plain": [
       "[0.9837955904134341, 0.7898486197950154]"
      ]
     },
     "execution_count": 28,
     "metadata": {},
     "output_type": "execute_result"
    }
   ],
   "source": [
    "model = keras.Sequential([\n",
    "    keras.layers.Dense(64, activation=keras.activations.relu, input_shape=(10000, )),\n",
    "    keras.layers.Dense(64, activation=keras.activations.relu),\n",
    "    keras.layers.Dense(46, activation=keras.activations.softmax)\n",
    "])\n",
    "\n",
    "model.compile(optimizer=keras.optimizers.RMSprop(),\n",
    "              loss=keras.losses.categorical_crossentropy,\n",
    "              metrics=[keras.metrics.categorical_accuracy])\n",
    "\n",
    "model.fit(x_train, y_train,\n",
    "          epochs=9,\n",
    "          batch_size=512)\n",
    "\n",
    "model.evaluate(x_test, y_test)"
   ]
  },
  {
   "cell_type": "code",
   "execution_count": 32,
   "metadata": {},
   "outputs": [
    {
     "data": {
      "text/plain": [
       "0.19278717720391808"
      ]
     },
     "execution_count": 32,
     "metadata": {},
     "output_type": "execute_result"
    }
   ],
   "source": [
    "# baseline randomly predict\n",
    "import copy\n",
    "test_labels_copy = copy.copy(test_labels)\n",
    "np.random.shuffle(test_labels_copy)\n",
    "hits_array = np.array(test_labels) == np.array(test_labels_copy)\n",
    "float(np.sum(hits_array)) / len(test_labels)"
   ]
  },
  {
   "cell_type": "code",
   "execution_count": 33,
   "metadata": {},
   "outputs": [
    {
     "name": "stdout",
     "output_type": "stream",
     "text": [
      "46\n"
     ]
    }
   ],
   "source": [
    "predictions = model.predict(x_test)\n",
    "print(len(predictions[0]))"
   ]
  },
  {
   "cell_type": "code",
   "execution_count": 43,
   "metadata": {},
   "outputs": [
    {
     "data": {
      "text/plain": [
       "0.7898486197684773"
      ]
     },
     "execution_count": 43,
     "metadata": {},
     "output_type": "execute_result"
    }
   ],
   "source": [
    "hits_array = np.array(np.argmax(predictions, axis=1)) == np.array(test_labels)\n",
    "float(np.sum(hits_array)) / len(test_labels)"
   ]
  },
  {
   "cell_type": "code",
   "execution_count": 44,
   "metadata": {},
   "outputs": [
    {
     "data": {
      "text/plain": [
       "1.0000001"
      ]
     },
     "execution_count": 44,
     "metadata": {},
     "output_type": "execute_result"
    }
   ],
   "source": [
    "np.sum(predictions[0])"
   ]
  },
  {
   "cell_type": "code",
   "execution_count": 56,
   "metadata": {},
   "outputs": [
    {
     "name": "stdout",
     "output_type": "stream",
     "text": [
      "Epoch 1/9\n",
      "8982/8982 [==============================] - 2s 167us/step - loss: 2.4110 - acc: 0.5449\n",
      "Epoch 2/9\n",
      "8982/8982 [==============================] - 1s 131us/step - loss: 1.2896 - acc: 0.7219\n",
      "Epoch 3/9\n",
      "8982/8982 [==============================] - 1s 125us/step - loss: 0.9558 - acc: 0.7868\n",
      "Epoch 4/9\n",
      "8982/8982 [==============================] - 1s 117us/step - loss: 0.7461 - acc: 0.8386\n",
      "Epoch 5/9\n",
      "8982/8982 [==============================] - 1s 118us/step - loss: 0.5839 - acc: 0.8793\n",
      "Epoch 6/9\n",
      "8982/8982 [==============================] - 1s 116us/step - loss: 0.4653 - acc: 0.9018\n",
      "Epoch 7/9\n",
      "8982/8982 [==============================] - 1s 114us/step - loss: 0.3743 - acc: 0.9191\n",
      "Epoch 8/9\n",
      "8982/8982 [==============================] - 1s 119us/step - loss: 0.3056 - acc: 0.9323\n",
      "Epoch 9/9\n",
      "8982/8982 [==============================] - 1s 113us/step - loss: 0.2583 - acc: 0.9389\n",
      "2246/2246 [==============================] - 0s 207us/step\n"
     ]
    },
    {
     "data": {
      "text/plain": [
       "[0.9778017783313592, 0.7885129118963532]"
      ]
     },
     "execution_count": 56,
     "metadata": {},
     "output_type": "execute_result"
    }
   ],
   "source": [
    "model = keras.Sequential([\n",
    "    keras.layers.Dense(64, activation=keras.activations.relu, input_shape=(10000, )),\n",
    "    keras.layers.Dense(64, activation=keras.activations.relu),\n",
    "    keras.layers.Dense(46, activation=keras.activations.softmax)\n",
    "])\n",
    "\n",
    "model.compile(optimizer=keras.optimizers.RMSprop(),\n",
    "              loss=keras.losses.sparse_categorical_crossentropy,\n",
    "              metrics=['acc'])\n",
    "\n",
    "integer_history = model.fit(x_train, train_labels,\n",
    "          epochs=9,\n",
    "          batch_size=512)\n",
    "\n",
    "model.evaluate(x_test, test_labels)"
   ]
  },
  {
   "cell_type": "code",
   "execution_count": 52,
   "metadata": {},
   "outputs": [
    {
     "data": {
      "text/plain": [
       "dict_keys(['acc', 'loss'])"
      ]
     },
     "execution_count": 52,
     "metadata": {},
     "output_type": "execute_result"
    }
   ],
   "source": [
    "integer_history.history.keys()"
   ]
  },
  {
   "cell_type": "code",
   "execution_count": null,
   "metadata": {},
   "outputs": [],
   "source": []
  }
 ],
 "metadata": {
  "kernelspec": {
   "display_name": "Python 3",
   "language": "python",
   "name": "python3"
  },
  "language_info": {
   "codemirror_mode": {
    "name": "ipython",
    "version": 3
   },
   "file_extension": ".py",
   "mimetype": "text/x-python",
   "name": "python",
   "nbconvert_exporter": "python",
   "pygments_lexer": "ipython3",
   "version": "3.5.2"
  }
 },
 "nbformat": 4,
 "nbformat_minor": 2
}
