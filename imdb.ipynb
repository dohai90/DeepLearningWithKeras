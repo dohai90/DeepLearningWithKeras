{
 "cells": [
  {
   "cell_type": "code",
   "execution_count": 11,
   "metadata": {},
   "outputs": [],
   "source": [
    "import tensorflow as tf\n",
    "import os\n",
    "import numpy as np\n",
    "\n",
    "from tensorflow import keras"
   ]
  },
  {
   "cell_type": "code",
   "execution_count": 12,
   "metadata": {},
   "outputs": [],
   "source": [
    "os.environ['CUDA_VISIBLE_DEVICES'] = \"\""
   ]
  },
  {
   "cell_type": "code",
   "execution_count": 13,
   "metadata": {},
   "outputs": [],
   "source": [
    "imdb = keras.datasets.imdb"
   ]
  },
  {
   "cell_type": "code",
   "execution_count": 14,
   "metadata": {},
   "outputs": [],
   "source": [
    "(train_data, train_labels), (test_data, test_labels) = imdb.load_data(num_words=10000)"
   ]
  },
  {
   "cell_type": "code",
   "execution_count": 15,
   "metadata": {},
   "outputs": [],
   "source": [
    "def vectorize_sequences(sequences, dimension=10000):\n",
    "    results = np.zeros((len(sequences), dimension))\n",
    "    \n",
    "    for i, word_indices in enumerate(sequences):\n",
    "        results[i, word_indices] = 1.\n",
    "    \n",
    "    return results\n",
    "\n",
    "x_train = vectorize_sequences(train_data)\n",
    "x_test = vectorize_sequences(test_data)"
   ]
  },
  {
   "cell_type": "code",
   "execution_count": 16,
   "metadata": {},
   "outputs": [
    {
     "data": {
      "text/plain": [
       "array([0., 1., 1., ..., 0., 0., 0.])"
      ]
     },
     "execution_count": 16,
     "metadata": {},
     "output_type": "execute_result"
    }
   ],
   "source": [
    "x_train[0]"
   ]
  },
  {
   "cell_type": "code",
   "execution_count": 17,
   "metadata": {},
   "outputs": [],
   "source": [
    "y_train = np.asarray(train_labels).astype(np.float32)\n",
    "y_test = np.asarray(test_labels).astype(np.float32)"
   ]
  },
  {
   "cell_type": "code",
   "execution_count": 18,
   "metadata": {},
   "outputs": [],
   "source": [
    "def create_model():\n",
    "    model = keras.Sequential()\n",
    "    model.add(keras.layers.Dense(16, activation=tf.nn.relu, input_shape=(10000, )))\n",
    "    model.add(keras.layers.Dense(16, activation=tf.nn.relu))\n",
    "    model.add(keras.layers.Dense(1, activation=tf.nn.sigmoid))\n",
    "\n",
    "    model.compile(optimizer=keras.optimizers.RMSprop(),\n",
    "                  loss=keras.losses.binary_crossentropy,\n",
    "                  metrics=[keras.metrics.binary_accuracy])\n",
    "    return model"
   ]
  },
  {
   "cell_type": "code",
   "execution_count": 19,
   "metadata": {},
   "outputs": [],
   "source": [
    "x_val = x_train[:10000]\n",
    "partial_x_train = x_train[10000:]\n",
    "y_val = y_train[:10000]\n",
    "partial_y_train = y_train[10000:]"
   ]
  },
  {
   "cell_type": "code",
   "execution_count": 20,
   "metadata": {
    "scrolled": true
   },
   "outputs": [
    {
     "name": "stdout",
     "output_type": "stream",
     "text": [
      "Train on 15000 samples, validate on 10000 samples\n",
      "Epoch 1/20\n",
      "15000/15000 [==============================] - 3s 187us/step - loss: 0.5283 - binary_accuracy: 0.7865 - val_loss: 0.3947 - val_binary_accuracy: 0.8671\n",
      "Epoch 2/20\n",
      "15000/15000 [==============================] - 2s 123us/step - loss: 0.3073 - binary_accuracy: 0.9035 - val_loss: 0.3088 - val_binary_accuracy: 0.8853\n",
      "Epoch 3/20\n",
      "15000/15000 [==============================] - 2s 137us/step - loss: 0.2225 - binary_accuracy: 0.9281 - val_loss: 0.2802 - val_binary_accuracy: 0.8912\n",
      "Epoch 4/20\n",
      "15000/15000 [==============================] - 2s 114us/step - loss: 0.1751 - binary_accuracy: 0.9448 - val_loss: 0.2789 - val_binary_accuracy: 0.8885\n",
      "Epoch 5/20\n",
      "15000/15000 [==============================] - 2s 117us/step - loss: 0.1413 - binary_accuracy: 0.9559 - val_loss: 0.2795 - val_binary_accuracy: 0.8897\n",
      "Epoch 6/20\n",
      "15000/15000 [==============================] - 2s 138us/step - loss: 0.1181 - binary_accuracy: 0.9633 - val_loss: 0.2976 - val_binary_accuracy: 0.8878\n",
      "Epoch 7/20\n",
      "15000/15000 [==============================] - 2s 114us/step - loss: 0.0963 - binary_accuracy: 0.9736 - val_loss: 0.3137 - val_binary_accuracy: 0.8821\n",
      "Epoch 8/20\n",
      "15000/15000 [==============================] - 2s 101us/step - loss: 0.0804 - binary_accuracy: 0.9778 - val_loss: 0.3350 - val_binary_accuracy: 0.8821\n",
      "Epoch 9/20\n",
      "15000/15000 [==============================] - 2s 112us/step - loss: 0.0666 - binary_accuracy: 0.9821 - val_loss: 0.3761 - val_binary_accuracy: 0.8703\n",
      "Epoch 10/20\n",
      "15000/15000 [==============================] - 2s 112us/step - loss: 0.0544 - binary_accuracy: 0.9872 - val_loss: 0.3979 - val_binary_accuracy: 0.8744\n",
      "Epoch 11/20\n",
      "15000/15000 [==============================] - 2s 122us/step - loss: 0.0426 - binary_accuracy: 0.9907 - val_loss: 0.4121 - val_binary_accuracy: 0.8760\n",
      "Epoch 12/20\n",
      "15000/15000 [==============================] - 2s 112us/step - loss: 0.0366 - binary_accuracy: 0.9917 - val_loss: 0.4260 - val_binary_accuracy: 0.8727\n",
      "Epoch 13/20\n",
      "15000/15000 [==============================] - 2s 109us/step - loss: 0.0291 - binary_accuracy: 0.9941 - val_loss: 0.4506 - val_binary_accuracy: 0.8734\n",
      "Epoch 14/20\n",
      "15000/15000 [==============================] - 2s 118us/step - loss: 0.0246 - binary_accuracy: 0.9939 - val_loss: 0.4770 - val_binary_accuracy: 0.8740\n",
      "Epoch 15/20\n",
      "15000/15000 [==============================] - 2s 109us/step - loss: 0.0142 - binary_accuracy: 0.9987 - val_loss: 0.5779 - val_binary_accuracy: 0.8646\n",
      "Epoch 16/20\n",
      "15000/15000 [==============================] - 2s 132us/step - loss: 0.0154 - binary_accuracy: 0.9985 - val_loss: 0.5357 - val_binary_accuracy: 0.8712\n",
      "Epoch 17/20\n",
      "15000/15000 [==============================] - 2s 102us/step - loss: 0.0080 - binary_accuracy: 0.9996 - val_loss: 0.5767 - val_binary_accuracy: 0.8707\n",
      "Epoch 18/20\n",
      "15000/15000 [==============================] - 2s 144us/step - loss: 0.0098 - binary_accuracy: 0.9982 - val_loss: 0.6064 - val_binary_accuracy: 0.8713\n",
      "Epoch 19/20\n",
      "15000/15000 [==============================] - 2s 108us/step - loss: 0.0043 - binary_accuracy: 0.9998 - val_loss: 0.6722 - val_binary_accuracy: 0.8652\n",
      "Epoch 20/20\n",
      "15000/15000 [==============================] - 2s 112us/step - loss: 0.0059 - binary_accuracy: 0.9991 - val_loss: 0.6697 - val_binary_accuracy: 0.8677\n"
     ]
    }
   ],
   "source": [
    "model = create_model()\n",
    "history = model.fit(partial_x_train, partial_y_train,\n",
    "                    epochs=20,\n",
    "                    batch_size=512, \n",
    "                    validation_data=(x_val, y_val))"
   ]
  },
  {
   "cell_type": "code",
   "execution_count": 21,
   "metadata": {},
   "outputs": [
    {
     "data": {
      "text/plain": [
       "dict_keys(['binary_accuracy', 'val_loss', 'loss', 'val_binary_accuracy'])"
      ]
     },
     "execution_count": 21,
     "metadata": {},
     "output_type": "execute_result"
    }
   ],
   "source": [
    "history_dict = history.history\n",
    "history_dict.keys()"
   ]
  },
  {
   "cell_type": "code",
   "execution_count": 22,
   "metadata": {},
   "outputs": [
    {
     "data": {
      "text/plain": [
       "<Figure size 640x480 with 1 Axes>"
      ]
     },
     "metadata": {},
     "output_type": "display_data"
    }
   ],
   "source": [
    "import matplotlib.pyplot as plt\n",
    "\n",
    "train_loss = history_dict['loss']\n",
    "val_loss = history_dict['val_loss']\n",
    "\n",
    "epochs = range(1, len(train_loss) + 1)\n",
    "\n",
    "plt.plot(epochs, train_loss, 'bo', label='Training loss')\n",
    "plt.plot(epochs, val_loss, 'b', label='Validation loss')\n",
    "plt.title('Training and validation loss')\n",
    "plt.xlabel('Epochs')\n",
    "plt.ylabel('Loss')\n",
    "plt.legend()\n",
    "plt.show()"
   ]
  },
  {
   "cell_type": "code",
   "execution_count": 23,
   "metadata": {},
   "outputs": [
    {
     "data": {
      "image/png": "[encoded data removed]",
      "text/plain": [
       "<Figure size 432x288 with 1 Axes>"
      ]
     },
     "metadata": {},
     "output_type": "display_data"
    }
   ],
   "source": [
    "plt.clf()\n",
    "train_acc = history_dict['binary_accuracy']\n",
    "val_acc = history_dict['val_binary_accuracy']\n",
    "\n",
    "plt.plot(epochs, train_acc, 'ro', label='Training accuracy')\n",
    "plt.plot(epochs, val_acc, 'r', label='Validation accuracy')\n",
    "plt.title('Training and validation accuracy')\n",
    "plt.xlabel('Epochs')\n",
    "plt.ylabel('Accuracy')\n",
    "plt.legend()\n",
    "plt.show()"
   ]
  },
  {
   "cell_type": "code",
   "execution_count": 24,
   "metadata": {},
   "outputs": [
    {
     "name": "stdout",
     "output_type": "stream",
     "text": [
      "Epoch 1/4\n",
      "25000/25000 [==============================] - 2s 84us/step - loss: 0.4437 - binary_accuracy: 0.8196\n",
      "Epoch 2/4\n",
      "25000/25000 [==============================] - 2s 79us/step - loss: 0.2527 - binary_accuracy: 0.9101\n",
      "Epoch 3/4\n",
      "25000/25000 [==============================] - 2s 65us/step - loss: 0.1965 - binary_accuracy: 0.9286\n",
      "Epoch 4/4\n",
      "25000/25000 [==============================] - 2s 81us/step - loss: 0.1630 - binary_accuracy: 0.9419\n",
      "25000/25000 [==============================] - 2s 94us/step\n"
     ]
    },
    {
     "data": {
      "text/plain": [
       "[0.3305183459854126, 0.87164]"
      ]
     },
     "execution_count": 24,
     "metadata": {},
     "output_type": "execute_result"
    }
   ],
   "source": [
    "full_model = create_model()\n",
    "full_model.fit(x_train, y_train, epochs=4, batch_size=512)\n",
    "full_model.evaluate(x_test, y_test)"
   ]
  },
  {
   "cell_type": "code",
   "execution_count": 27,
   "metadata": {
    "scrolled": true
   },
   "outputs": [
    {
     "name": "stdout",
     "output_type": "stream",
     "text": [
      "Epoch 1/4\n",
      "25000/25000 [==============================] - 2s 94us/step - loss: 0.4399 - binary_accuracy: 0.8316: 0s - loss: 0.4546 - binary_accuracy: 0\n",
      "Epoch 2/4\n",
      "25000/25000 [==============================] - 2s 82us/step - loss: 0.2692 - binary_accuracy: 0.9089\n",
      "Epoch 3/4\n",
      "25000/25000 [==============================] - 2s 69us/step - loss: 0.2157 - binary_accuracy: 0.9260\n",
      "Epoch 4/4\n",
      "25000/25000 [==============================] - 2s 76us/step - loss: 0.1844 - binary_accuracy: 0.9360\n"
     ]
    }
   ],
   "source": [
    "one_hidden_model = keras.Sequential([\n",
    "    keras.layers.Dense(16, activation=keras.activations.relu, input_shape=(10000, )),\n",
    "    keras.layers.Dense(1, activation=keras.activations.sigmoid)\n",
    "])\n",
    "one_hidden_model.compile(optimizer=keras.optimizers.RMSprop(),\n",
    "                         loss=keras.losses.binary_crossentropy,\n",
    "                         metrics=[keras.metrics.binary_accuracy])\n",
    "one_hidden_history = one_hidden_model.fit(x_train, y_train,\n",
    "                                          epochs=4,\n",
    "                                          batch_size=512)"
   ]
  },
  {
   "cell_type": "code",
   "execution_count": 28,
   "metadata": {},
   "outputs": [
    {
     "name": "stdout",
     "output_type": "stream",
     "text": [
      "25000/25000 [==============================] - 3s 101us/step\n"
     ]
    },
    {
     "data": {
      "text/plain": [
       "[0.28445223755836485, 0.88496]"
      ]
     },
     "execution_count": 28,
     "metadata": {},
     "output_type": "execute_result"
    }
   ],
   "source": [
    "one_hidden_model.evaluate(x_test, y_test)"
   ]
  },
  {
   "cell_type": "code",
   "execution_count": 33,
   "metadata": {
    "scrolled": true
   },
   "outputs": [
    {
     "name": "stdout",
     "output_type": "stream",
     "text": [
      "Epoch 1/3\n",
      "25000/25000 [==============================] - 2s 95us/step - loss: 0.4649 - binary_accuracy: 0.8035\n",
      "Epoch 2/3\n",
      "25000/25000 [==============================] - 2s 73us/step - loss: 0.2478 - binary_accuracy: 0.9115\n",
      "Epoch 3/3\n",
      "25000/25000 [==============================] - 2s 69us/step - loss: 0.1912 - binary_accuracy: 0.9304\n"
     ]
    }
   ],
   "source": [
    "three_hidden_model = keras.Sequential([\n",
    "    keras.layers.Dense(16, activation=keras.activations.relu, input_shape=(10000, )),\n",
    "    keras.layers.Dense(16, activation=keras.activations.relu),\n",
    "    keras.layers.Dense(16, activation=keras.activations.relu),    \n",
    "    keras.layers.Dense(1, activation=keras.activations.sigmoid)\n",
    "])\n",
    "three_hidden_model.compile(optimizer=keras.optimizers.RMSprop(),\n",
    "                         loss=keras.losses.binary_crossentropy,\n",
    "                         metrics=[keras.metrics.binary_accuracy])\n",
    "three_hidden_history = three_hidden_model.fit(x_train, y_train,\n",
    "                                          epochs=3,\n",
    "                                          batch_size=512)"
   ]
  },
  {
   "cell_type": "code",
   "execution_count": 34,
   "metadata": {},
   "outputs": [
    {
     "name": "stdout",
     "output_type": "stream",
     "text": [
      "25000/25000 [==============================] - 3s 116us/step\n"
     ]
    },
    {
     "data": {
      "text/plain": [
       "[0.2926404519367218, 0.88552]"
      ]
     },
     "execution_count": 34,
     "metadata": {},
     "output_type": "execute_result"
    }
   ],
   "source": [
    "three_hidden_model.evaluate(x_test, y_test)"
   ]
  },
  {
   "cell_type": "code",
   "execution_count": 36,
   "metadata": {},
   "outputs": [
    {
     "name": "stdout",
     "output_type": "stream",
     "text": [
      "Epoch 1/4\n",
      "25000/25000 [==============================] - 2s 99us/step - loss: 0.4174 - binary_accuracy: 0.8315\n",
      "Epoch 2/4\n",
      "25000/25000 [==============================] - 2s 81us/step - loss: 0.2342 - binary_accuracy: 0.9118\n",
      "Epoch 3/4\n",
      "25000/25000 [==============================] - 2s 78us/step - loss: 0.1780 - binary_accuracy: 0.9343\n",
      "Epoch 4/4\n",
      "25000/25000 [==============================] - 2s 70us/step - loss: 0.1471 - binary_accuracy: 0.9468\n",
      "25000/25000 [==============================] - 2s 99us/step\n"
     ]
    },
    {
     "data": {
      "text/plain": [
       "[0.3434072085046768, 0.87324]"
      ]
     },
     "execution_count": 36,
     "metadata": {},
     "output_type": "execute_result"
    }
   ],
   "source": [
    "tanh_model = keras.Sequential([\n",
    "    keras.layers.Dense(16, activation=keras.activations.tanh, input_shape=(10000, )),    \n",
    "    keras.layers.Dense(16, activation=keras.activations.tanh),    \n",
    "    keras.layers.Dense(1, activation=keras.activations.sigmoid)\n",
    "])\n",
    "tanh_model.compile(optimizer=keras.optimizers.RMSprop(),\n",
    "                   loss=keras.losses.binary_crossentropy,\n",
    "                   metrics=[keras.metrics.binary_accuracy])\n",
    "tanh_history = tanh_model.fit(x_train, y_train,\n",
    "                              epochs=4,\n",
    "                              batch_size=512)\n",
    "tanh_model.evaluate(x_test, y_test)"
   ]
  },
  {
   "cell_type": "code",
   "execution_count": 44,
   "metadata": {},
   "outputs": [
    {
     "name": "stdout",
     "output_type": "stream",
     "text": [
      "Epoch 1/4\n",
      "25000/25000 [==============================] - 3s 110us/step - loss: 0.1521 - binary_accuracy: 0.8248\n",
      "Epoch 2/4\n",
      "25000/25000 [==============================] - 2s 75us/step - loss: 0.0801 - binary_accuracy: 0.9095\n",
      "Epoch 3/4\n",
      "25000/25000 [==============================] - 2s 71us/step - loss: 0.0601 - binary_accuracy: 0.9295\n",
      "Epoch 4/4\n",
      "25000/25000 [==============================] - 2s 81us/step - loss: 0.0491 - binary_accuracy: 0.9427\n",
      "25000/25000 [==============================] - 3s 108us/step\n"
     ]
    },
    {
     "data": {
      "text/plain": [
       "[0.0854564205121994, 0.88436]"
      ]
     },
     "execution_count": 44,
     "metadata": {},
     "output_type": "execute_result"
    }
   ],
   "source": [
    "mse_model = keras.Sequential([\n",
    "    keras.layers.Dense(16, activation=keras.activations.relu, input_shape=(10000, )),    \n",
    "    keras.layers.Dense(16, activation=keras.activations.relu),    \n",
    "    keras.layers.Dense(1, activation=keras.activations.sigmoid)\n",
    "])\n",
    "mse_model.compile(optimizer=keras.optimizers.RMSprop(),\n",
    "                   loss=keras.losses.mean_squared_error,\n",
    "                   metrics=[keras.metrics.binary_accuracy])\n",
    "mse_history = mse_model.fit(x_train, y_train,\n",
    "                              epochs=4,\n",
    "                              batch_size=512)\n",
    "mse_model.evaluate(x_test, y_test)"
   ]
  },
  {
   "cell_type": "code",
   "execution_count": null,
   "metadata": {},
   "outputs": [],
   "source": []
  }
 ],
 "metadata": {
  "kernelspec": {
   "display_name": "Python 3",
   "language": "python",
   "name": "python3"
  },
  "language_info": {
   "codemirror_mode": {
    "name": "ipython",
    "version": 3
   },
   "file_extension": ".py",
   "mimetype": "text/x-python",
   "name": "python",
   "nbconvert_exporter": "python",
   "pygments_lexer": "ipython3",
   "version": "3.5.2"
  }
 },
 "nbformat": 4,
 "nbformat_minor": 2
}
